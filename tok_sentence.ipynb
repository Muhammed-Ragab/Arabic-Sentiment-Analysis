{
 "cells": [
  {
   "cell_type": "code",
   "execution_count": 41,
   "id": "1a9393e4",
   "metadata": {},
   "outputs": [],
   "source": [
    "#!/usr/bin/python\n",
    "# -*- coding:utf-8 -*-\n",
    "import script\n",
    "import sys\n",
    "import re\n",
    "import io\n",
    "def break_into_sentences(corpus_file):\n",
    "    f = io.open(\"Bishri_Islam_Arab_Stemm.txt\", 'r', encoding='utf8')\n",
    "    Sentence_Size = 0\n",
    "    Max_Size = 40  # Max_Size od the sentences\n",
    "    paragraph = f.read()\n",
    "\t#remove_diacritics fct\n",
    "    regex = re.compile(r'[\\u064B\\u064C\\u064D\\u064E\\u064F\\u0650\\u0651\\u0652]')\n",
    "    paragraph = re.sub(regex, '', paragraph)\n",
    "    #remove_urls fct\n",
    "    regex = re.compile(r\"(http|https|ftp)://(?:[a-zA-Z]|[0-9]|[$-_@.&+]|[!*\\(\\),]|(?:%[0-9a-fA-F][0-9a-fA-F]))+\")\n",
    "    paragraph = re.sub(regex, '', paragraph)\n",
    "    regex = re.compile(r\"(\\d|[\\u0660\\u0661\\u0662\\u0663\\u0664\\u0665\\u0666\\u0667\\u0668\\u0669])+\")\n",
    "    paragraph = re.sub(regex, '', paragraph)\n",
    "\t#remove one_character words\n",
    "    regex = re.compile(r'\\s.\\s')\n",
    "    paragraph = re.sub(regex, ' ', paragraph)\n",
    "    resultFile = io.open(\"Bishri_Output.txt\", 'w',encoding='utf8')\n",
    "    sentences = list()\n",
    "    temp_sentence = list()\n",
    "    flag = False\n",
    "    for ch in paragraph.strip():\n",
    "        if ch in [u'؟', u'!', u'.', u':', u'؛',u'?']:\n",
    "            Sentence_Size = 0\n",
    "            flag = True\n",
    "        elif flag:\n",
    "            sentences.append(''.join(temp_sentence).strip())\n",
    "            temp_sentence = []\n",
    "            flag = False\n",
    "        regex = re.compile(r'[إأٱآا]')\n",
    "        ch = re.sub(regex, 'ا', ch)\n",
    "        regex = re.compile(r'[ئ]')\n",
    "        ch = re.sub(regex, 'ى', ch)\n",
    "        #remove_non_arabic_symbols fct\n",
    "        ch = re.sub(r'[^\\u0600-\\u06FF]', ' ', ch)\t\t\n",
    "        temp_sentence.append(ch)\n",
    "        if ch.isspace():\n",
    "           Sentence_Size = Sentence_Size + 1\n",
    "           if Sentence_Size > Max_Size:\n",
    "              Sentence_Size = 0\n",
    "              flag = True\n",
    "              \n",
    "    else:\n",
    "        sentences.append(''.join(temp_sentence).strip())\n",
    "        for item in sentences:\n",
    "            resultFile.write(\"%s\\n\" % re.sub(' +', ' ', item))\n",
    "\n",
    "if __name__ == '__main__':\n",
    "    break_into_sentences(sys.argv[1])"
   ]
  },
  {
   "cell_type": "code",
   "execution_count": 42,
   "id": "4d81e6a8",
   "metadata": {},
   "outputs": [],
   "source": [
    "import pandas as pd\n",
    "\n",
    "# Read the text file line by line\n",
    "with open('Bishri_output.txt', 'r', encoding='utf-8') as file:\n",
    "    lines = file.readlines()\n",
    "\n",
    "# Create a DataFrame with each line in a separate cell\n",
    "df = pd.DataFrame({'Text': lines})\n",
    "\n",
    "# Save the DataFrame to a CSV file\n",
    "df.to_csv('Bishri_output.csv', index=False, encoding='utf-8')"
   ]
  },
  {
   "cell_type": "code",
   "execution_count": null,
   "id": "eb81a61a",
   "metadata": {},
   "outputs": [],
   "source": []
  }
 ],
 "metadata": {
  "kernelspec": {
   "display_name": "Python 3 (ipykernel)",
   "language": "python",
   "name": "python3"
  },
  "language_info": {
   "codemirror_mode": {
    "name": "ipython",
    "version": 3
   },
   "file_extension": ".py",
   "mimetype": "text/x-python",
   "name": "python",
   "nbconvert_exporter": "python",
   "pygments_lexer": "ipython3",
   "version": "3.9.13"
  }
 },
 "nbformat": 4,
 "nbformat_minor": 5
}
